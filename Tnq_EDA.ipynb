{
  "nbformat": 4,
  "nbformat_minor": 0,
  "metadata": {
    "colab": {
      "provenance": [],
      "collapsed_sections": []
    },
    "kernelspec": {
      "name": "python3",
      "display_name": "Python 3"
    },
    "language_info": {
      "name": "python"
    }
  },
  "cells": [
    {
      "cell_type": "markdown",
      "source": [
        "IMPORTING THE PACKAGES"
      ],
      "metadata": {
        "id": "kOce62rKZTvV"
      }
    },
    {
      "cell_type": "code",
      "execution_count": 1,
      "metadata": {
        "id": "EL1N4JMmYQKZ"
      },
      "outputs": [],
      "source": [
        "import pandas as pd\n",
        "import numpy as np"
      ]
    },
    {
      "cell_type": "markdown",
      "source": [
        "READ THE FILE"
      ],
      "metadata": {
        "id": "ncE14rbvZaU9"
      }
    },
    {
      "cell_type": "code",
      "source": [
        "df=pd.read_csv(\"/content/world_population.csv\")"
      ],
      "metadata": {
        "id": "O54TgQJ8Ypca"
      },
      "execution_count": 2,
      "outputs": []
    },
    {
      "cell_type": "code",
      "source": [
        "df.head()"
      ],
      "metadata": {
        "colab": {
          "base_uri": "https://localhost:8080/",
          "height": 340
        },
        "id": "WM8k62VMYzwO",
        "outputId": "ccb828f1-45d9-4b29-819c-34e59addf6dd"
      },
      "execution_count": 3,
      "outputs": [
        {
          "output_type": "execute_result",
          "data": {
            "text/plain": [
              "   Rank CCA3         Country           Capital Continent  2022 Population  \\\n",
              "0    36  AFG     Afghanistan             Kabul      Asia         41128771   \n",
              "1   138  ALB         Albania            Tirana    Europe          2842321   \n",
              "2    34  DZA         Algeria           Algiers    Africa         44903225   \n",
              "3   213  ASM  American Samoa         Pago Pago   Oceania            44273   \n",
              "4   203  AND         Andorra  Andorra la Vella    Europe            79824   \n",
              "\n",
              "   2020 Population  2015 Population  2010 Population  2000 Population  \\\n",
              "0         38972230         33753499         28189672         19542982   \n",
              "1          2866849          2882481          2913399          3182021   \n",
              "2         43451666         39543154         35856344         30774621   \n",
              "3            46189            51368            54849            58230   \n",
              "4            77700            71746            71519            66097   \n",
              "\n",
              "   1990 Population  1980 Population  1970 Population  Area (km²)  \\\n",
              "0         10694796         12486631         10752971      652230   \n",
              "1          3295066          2941651          2324731       28748   \n",
              "2         25518074         18739378         13795915     2381741   \n",
              "3            47818            32886            27075         199   \n",
              "4            53569            35611            19860         468   \n",
              "\n",
              "   Density (per km²)  Growth Rate  World Population Percentage  \n",
              "0            63.0587       1.0257                         0.52  \n",
              "1            98.8702       0.9957                         0.04  \n",
              "2            18.8531       1.0164                         0.56  \n",
              "3           222.4774       0.9831                         0.00  \n",
              "4           170.5641       1.0100                         0.00  "
            ],
            "text/html": [
              "\n",
              "  <div id=\"df-e8d35ed8-60bb-4fd7-9c13-76f47a402044\">\n",
              "    <div class=\"colab-df-container\">\n",
              "      <div>\n",
              "<style scoped>\n",
              "    .dataframe tbody tr th:only-of-type {\n",
              "        vertical-align: middle;\n",
              "    }\n",
              "\n",
              "    .dataframe tbody tr th {\n",
              "        vertical-align: top;\n",
              "    }\n",
              "\n",
              "    .dataframe thead th {\n",
              "        text-align: right;\n",
              "    }\n",
              "</style>\n",
              "<table border=\"1\" class=\"dataframe\">\n",
              "  <thead>\n",
              "    <tr style=\"text-align: right;\">\n",
              "      <th></th>\n",
              "      <th>Rank</th>\n",
              "      <th>CCA3</th>\n",
              "      <th>Country</th>\n",
              "      <th>Capital</th>\n",
              "      <th>Continent</th>\n",
              "      <th>2022 Population</th>\n",
              "      <th>2020 Population</th>\n",
              "      <th>2015 Population</th>\n",
              "      <th>2010 Population</th>\n",
              "      <th>2000 Population</th>\n",
              "      <th>1990 Population</th>\n",
              "      <th>1980 Population</th>\n",
              "      <th>1970 Population</th>\n",
              "      <th>Area (km²)</th>\n",
              "      <th>Density (per km²)</th>\n",
              "      <th>Growth Rate</th>\n",
              "      <th>World Population Percentage</th>\n",
              "    </tr>\n",
              "  </thead>\n",
              "  <tbody>\n",
              "    <tr>\n",
              "      <th>0</th>\n",
              "      <td>36</td>\n",
              "      <td>AFG</td>\n",
              "      <td>Afghanistan</td>\n",
              "      <td>Kabul</td>\n",
              "      <td>Asia</td>\n",
              "      <td>41128771</td>\n",
              "      <td>38972230</td>\n",
              "      <td>33753499</td>\n",
              "      <td>28189672</td>\n",
              "      <td>19542982</td>\n",
              "      <td>10694796</td>\n",
              "      <td>12486631</td>\n",
              "      <td>10752971</td>\n",
              "      <td>652230</td>\n",
              "      <td>63.0587</td>\n",
              "      <td>1.0257</td>\n",
              "      <td>0.52</td>\n",
              "    </tr>\n",
              "    <tr>\n",
              "      <th>1</th>\n",
              "      <td>138</td>\n",
              "      <td>ALB</td>\n",
              "      <td>Albania</td>\n",
              "      <td>Tirana</td>\n",
              "      <td>Europe</td>\n",
              "      <td>2842321</td>\n",
              "      <td>2866849</td>\n",
              "      <td>2882481</td>\n",
              "      <td>2913399</td>\n",
              "      <td>3182021</td>\n",
              "      <td>3295066</td>\n",
              "      <td>2941651</td>\n",
              "      <td>2324731</td>\n",
              "      <td>28748</td>\n",
              "      <td>98.8702</td>\n",
              "      <td>0.9957</td>\n",
              "      <td>0.04</td>\n",
              "    </tr>\n",
              "    <tr>\n",
              "      <th>2</th>\n",
              "      <td>34</td>\n",
              "      <td>DZA</td>\n",
              "      <td>Algeria</td>\n",
              "      <td>Algiers</td>\n",
              "      <td>Africa</td>\n",
              "      <td>44903225</td>\n",
              "      <td>43451666</td>\n",
              "      <td>39543154</td>\n",
              "      <td>35856344</td>\n",
              "      <td>30774621</td>\n",
              "      <td>25518074</td>\n",
              "      <td>18739378</td>\n",
              "      <td>13795915</td>\n",
              "      <td>2381741</td>\n",
              "      <td>18.8531</td>\n",
              "      <td>1.0164</td>\n",
              "      <td>0.56</td>\n",
              "    </tr>\n",
              "    <tr>\n",
              "      <th>3</th>\n",
              "      <td>213</td>\n",
              "      <td>ASM</td>\n",
              "      <td>American Samoa</td>\n",
              "      <td>Pago Pago</td>\n",
              "      <td>Oceania</td>\n",
              "      <td>44273</td>\n",
              "      <td>46189</td>\n",
              "      <td>51368</td>\n",
              "      <td>54849</td>\n",
              "      <td>58230</td>\n",
              "      <td>47818</td>\n",
              "      <td>32886</td>\n",
              "      <td>27075</td>\n",
              "      <td>199</td>\n",
              "      <td>222.4774</td>\n",
              "      <td>0.9831</td>\n",
              "      <td>0.00</td>\n",
              "    </tr>\n",
              "    <tr>\n",
              "      <th>4</th>\n",
              "      <td>203</td>\n",
              "      <td>AND</td>\n",
              "      <td>Andorra</td>\n",
              "      <td>Andorra la Vella</td>\n",
              "      <td>Europe</td>\n",
              "      <td>79824</td>\n",
              "      <td>77700</td>\n",
              "      <td>71746</td>\n",
              "      <td>71519</td>\n",
              "      <td>66097</td>\n",
              "      <td>53569</td>\n",
              "      <td>35611</td>\n",
              "      <td>19860</td>\n",
              "      <td>468</td>\n",
              "      <td>170.5641</td>\n",
              "      <td>1.0100</td>\n",
              "      <td>0.00</td>\n",
              "    </tr>\n",
              "  </tbody>\n",
              "</table>\n",
              "</div>\n",
              "      <button class=\"colab-df-convert\" onclick=\"convertToInteractive('df-e8d35ed8-60bb-4fd7-9c13-76f47a402044')\"\n",
              "              title=\"Convert this dataframe to an interactive table.\"\n",
              "              style=\"display:none;\">\n",
              "        \n",
              "  <svg xmlns=\"http://www.w3.org/2000/svg\" height=\"24px\"viewBox=\"0 0 24 24\"\n",
              "       width=\"24px\">\n",
              "    <path d=\"M0 0h24v24H0V0z\" fill=\"none\"/>\n",
              "    <path d=\"M18.56 5.44l.94 2.06.94-2.06 2.06-.94-2.06-.94-.94-2.06-.94 2.06-2.06.94zm-11 1L8.5 8.5l.94-2.06 2.06-.94-2.06-.94L8.5 2.5l-.94 2.06-2.06.94zm10 10l.94 2.06.94-2.06 2.06-.94-2.06-.94-.94-2.06-.94 2.06-2.06.94z\"/><path d=\"M17.41 7.96l-1.37-1.37c-.4-.4-.92-.59-1.43-.59-.52 0-1.04.2-1.43.59L10.3 9.45l-7.72 7.72c-.78.78-.78 2.05 0 2.83L4 21.41c.39.39.9.59 1.41.59.51 0 1.02-.2 1.41-.59l7.78-7.78 2.81-2.81c.8-.78.8-2.07 0-2.86zM5.41 20L4 18.59l7.72-7.72 1.47 1.35L5.41 20z\"/>\n",
              "  </svg>\n",
              "      </button>\n",
              "      \n",
              "  <style>\n",
              "    .colab-df-container {\n",
              "      display:flex;\n",
              "      flex-wrap:wrap;\n",
              "      gap: 12px;\n",
              "    }\n",
              "\n",
              "    .colab-df-convert {\n",
              "      background-color: #E8F0FE;\n",
              "      border: none;\n",
              "      border-radius: 50%;\n",
              "      cursor: pointer;\n",
              "      display: none;\n",
              "      fill: #1967D2;\n",
              "      height: 32px;\n",
              "      padding: 0 0 0 0;\n",
              "      width: 32px;\n",
              "    }\n",
              "\n",
              "    .colab-df-convert:hover {\n",
              "      background-color: #E2EBFA;\n",
              "      box-shadow: 0px 1px 2px rgba(60, 64, 67, 0.3), 0px 1px 3px 1px rgba(60, 64, 67, 0.15);\n",
              "      fill: #174EA6;\n",
              "    }\n",
              "\n",
              "    [theme=dark] .colab-df-convert {\n",
              "      background-color: #3B4455;\n",
              "      fill: #D2E3FC;\n",
              "    }\n",
              "\n",
              "    [theme=dark] .colab-df-convert:hover {\n",
              "      background-color: #434B5C;\n",
              "      box-shadow: 0px 1px 3px 1px rgba(0, 0, 0, 0.15);\n",
              "      filter: drop-shadow(0px 1px 2px rgba(0, 0, 0, 0.3));\n",
              "      fill: #FFFFFF;\n",
              "    }\n",
              "  </style>\n",
              "\n",
              "      <script>\n",
              "        const buttonEl =\n",
              "          document.querySelector('#df-e8d35ed8-60bb-4fd7-9c13-76f47a402044 button.colab-df-convert');\n",
              "        buttonEl.style.display =\n",
              "          google.colab.kernel.accessAllowed ? 'block' : 'none';\n",
              "\n",
              "        async function convertToInteractive(key) {\n",
              "          const element = document.querySelector('#df-e8d35ed8-60bb-4fd7-9c13-76f47a402044');\n",
              "          const dataTable =\n",
              "            await google.colab.kernel.invokeFunction('convertToInteractive',\n",
              "                                                     [key], {});\n",
              "          if (!dataTable) return;\n",
              "\n",
              "          const docLinkHtml = 'Like what you see? Visit the ' +\n",
              "            '<a target=\"_blank\" href=https://colab.research.google.com/notebooks/data_table.ipynb>data table notebook</a>'\n",
              "            + ' to learn more about interactive tables.';\n",
              "          element.innerHTML = '';\n",
              "          dataTable['output_type'] = 'display_data';\n",
              "          await google.colab.output.renderOutput(dataTable, element);\n",
              "          const docLink = document.createElement('div');\n",
              "          docLink.innerHTML = docLinkHtml;\n",
              "          element.appendChild(docLink);\n",
              "        }\n",
              "      </script>\n",
              "    </div>\n",
              "  </div>\n",
              "  "
            ]
          },
          "metadata": {},
          "execution_count": 3
        }
      ]
    },
    {
      "cell_type": "code",
      "source": [
        "df.tail()"
      ],
      "metadata": {
        "colab": {
          "base_uri": "https://localhost:8080/",
          "height": 340
        },
        "id": "NiMMNx0MZF5f",
        "outputId": "44399f27-4a2e-4704-d785-60a2c4f2c4d6"
      },
      "execution_count": 4,
      "outputs": [
        {
          "output_type": "execute_result",
          "data": {
            "text/plain": [
              "     Rank CCA3            Country   Capital Continent  2022 Population  \\\n",
              "229   226  WLF  Wallis and Futuna  Mata-Utu   Oceania            11572   \n",
              "230   172  ESH     Western Sahara  El Aaiún    Africa           575986   \n",
              "231    46  YEM              Yemen     Sanaa      Asia         33696614   \n",
              "232    63  ZMB             Zambia    Lusaka    Africa         20017675   \n",
              "233    74  ZWE           Zimbabwe    Harare    Africa         16320537   \n",
              "\n",
              "     2020 Population  2015 Population  2010 Population  2000 Population  \\\n",
              "229            11655            12182            13142            14723   \n",
              "230           556048           491824           413296           270375   \n",
              "231         32284046         28516545         24743946         18628700   \n",
              "232         18927715         16248230         13792086          9891136   \n",
              "233         15669666         14154937         12839771         11834676   \n",
              "\n",
              "     1990 Population  1980 Population  1970 Population  Area (km²)  \\\n",
              "229            13454            11315             9377         142   \n",
              "230           178529           116775            76371      266000   \n",
              "231         13375121          9204938          6843607      527968   \n",
              "232          7686401          5720438          4281671      752612   \n",
              "233         10113893          7049926          5202918      390757   \n",
              "\n",
              "     Density (per km²)  Growth Rate  World Population Percentage  \n",
              "229            81.4930       0.9953                         0.00  \n",
              "230             2.1654       1.0184                         0.01  \n",
              "231            63.8232       1.0217                         0.42  \n",
              "232            26.5976       1.0280                         0.25  \n",
              "233            41.7665       1.0204                         0.20  "
            ],
            "text/html": [
              "\n",
              "  <div id=\"df-1f6bc178-cba3-4bb7-9370-036ff9269be9\">\n",
              "    <div class=\"colab-df-container\">\n",
              "      <div>\n",
              "<style scoped>\n",
              "    .dataframe tbody tr th:only-of-type {\n",
              "        vertical-align: middle;\n",
              "    }\n",
              "\n",
              "    .dataframe tbody tr th {\n",
              "        vertical-align: top;\n",
              "    }\n",
              "\n",
              "    .dataframe thead th {\n",
              "        text-align: right;\n",
              "    }\n",
              "</style>\n",
              "<table border=\"1\" class=\"dataframe\">\n",
              "  <thead>\n",
              "    <tr style=\"text-align: right;\">\n",
              "      <th></th>\n",
              "      <th>Rank</th>\n",
              "      <th>CCA3</th>\n",
              "      <th>Country</th>\n",
              "      <th>Capital</th>\n",
              "      <th>Continent</th>\n",
              "      <th>2022 Population</th>\n",
              "      <th>2020 Population</th>\n",
              "      <th>2015 Population</th>\n",
              "      <th>2010 Population</th>\n",
              "      <th>2000 Population</th>\n",
              "      <th>1990 Population</th>\n",
              "      <th>1980 Population</th>\n",
              "      <th>1970 Population</th>\n",
              "      <th>Area (km²)</th>\n",
              "      <th>Density (per km²)</th>\n",
              "      <th>Growth Rate</th>\n",
              "      <th>World Population Percentage</th>\n",
              "    </tr>\n",
              "  </thead>\n",
              "  <tbody>\n",
              "    <tr>\n",
              "      <th>229</th>\n",
              "      <td>226</td>\n",
              "      <td>WLF</td>\n",
              "      <td>Wallis and Futuna</td>\n",
              "      <td>Mata-Utu</td>\n",
              "      <td>Oceania</td>\n",
              "      <td>11572</td>\n",
              "      <td>11655</td>\n",
              "      <td>12182</td>\n",
              "      <td>13142</td>\n",
              "      <td>14723</td>\n",
              "      <td>13454</td>\n",
              "      <td>11315</td>\n",
              "      <td>9377</td>\n",
              "      <td>142</td>\n",
              "      <td>81.4930</td>\n",
              "      <td>0.9953</td>\n",
              "      <td>0.00</td>\n",
              "    </tr>\n",
              "    <tr>\n",
              "      <th>230</th>\n",
              "      <td>172</td>\n",
              "      <td>ESH</td>\n",
              "      <td>Western Sahara</td>\n",
              "      <td>El Aaiún</td>\n",
              "      <td>Africa</td>\n",
              "      <td>575986</td>\n",
              "      <td>556048</td>\n",
              "      <td>491824</td>\n",
              "      <td>413296</td>\n",
              "      <td>270375</td>\n",
              "      <td>178529</td>\n",
              "      <td>116775</td>\n",
              "      <td>76371</td>\n",
              "      <td>266000</td>\n",
              "      <td>2.1654</td>\n",
              "      <td>1.0184</td>\n",
              "      <td>0.01</td>\n",
              "    </tr>\n",
              "    <tr>\n",
              "      <th>231</th>\n",
              "      <td>46</td>\n",
              "      <td>YEM</td>\n",
              "      <td>Yemen</td>\n",
              "      <td>Sanaa</td>\n",
              "      <td>Asia</td>\n",
              "      <td>33696614</td>\n",
              "      <td>32284046</td>\n",
              "      <td>28516545</td>\n",
              "      <td>24743946</td>\n",
              "      <td>18628700</td>\n",
              "      <td>13375121</td>\n",
              "      <td>9204938</td>\n",
              "      <td>6843607</td>\n",
              "      <td>527968</td>\n",
              "      <td>63.8232</td>\n",
              "      <td>1.0217</td>\n",
              "      <td>0.42</td>\n",
              "    </tr>\n",
              "    <tr>\n",
              "      <th>232</th>\n",
              "      <td>63</td>\n",
              "      <td>ZMB</td>\n",
              "      <td>Zambia</td>\n",
              "      <td>Lusaka</td>\n",
              "      <td>Africa</td>\n",
              "      <td>20017675</td>\n",
              "      <td>18927715</td>\n",
              "      <td>16248230</td>\n",
              "      <td>13792086</td>\n",
              "      <td>9891136</td>\n",
              "      <td>7686401</td>\n",
              "      <td>5720438</td>\n",
              "      <td>4281671</td>\n",
              "      <td>752612</td>\n",
              "      <td>26.5976</td>\n",
              "      <td>1.0280</td>\n",
              "      <td>0.25</td>\n",
              "    </tr>\n",
              "    <tr>\n",
              "      <th>233</th>\n",
              "      <td>74</td>\n",
              "      <td>ZWE</td>\n",
              "      <td>Zimbabwe</td>\n",
              "      <td>Harare</td>\n",
              "      <td>Africa</td>\n",
              "      <td>16320537</td>\n",
              "      <td>15669666</td>\n",
              "      <td>14154937</td>\n",
              "      <td>12839771</td>\n",
              "      <td>11834676</td>\n",
              "      <td>10113893</td>\n",
              "      <td>7049926</td>\n",
              "      <td>5202918</td>\n",
              "      <td>390757</td>\n",
              "      <td>41.7665</td>\n",
              "      <td>1.0204</td>\n",
              "      <td>0.20</td>\n",
              "    </tr>\n",
              "  </tbody>\n",
              "</table>\n",
              "</div>\n",
              "      <button class=\"colab-df-convert\" onclick=\"convertToInteractive('df-1f6bc178-cba3-4bb7-9370-036ff9269be9')\"\n",
              "              title=\"Convert this dataframe to an interactive table.\"\n",
              "              style=\"display:none;\">\n",
              "        \n",
              "  <svg xmlns=\"http://www.w3.org/2000/svg\" height=\"24px\"viewBox=\"0 0 24 24\"\n",
              "       width=\"24px\">\n",
              "    <path d=\"M0 0h24v24H0V0z\" fill=\"none\"/>\n",
              "    <path d=\"M18.56 5.44l.94 2.06.94-2.06 2.06-.94-2.06-.94-.94-2.06-.94 2.06-2.06.94zm-11 1L8.5 8.5l.94-2.06 2.06-.94-2.06-.94L8.5 2.5l-.94 2.06-2.06.94zm10 10l.94 2.06.94-2.06 2.06-.94-2.06-.94-.94-2.06-.94 2.06-2.06.94z\"/><path d=\"M17.41 7.96l-1.37-1.37c-.4-.4-.92-.59-1.43-.59-.52 0-1.04.2-1.43.59L10.3 9.45l-7.72 7.72c-.78.78-.78 2.05 0 2.83L4 21.41c.39.39.9.59 1.41.59.51 0 1.02-.2 1.41-.59l7.78-7.78 2.81-2.81c.8-.78.8-2.07 0-2.86zM5.41 20L4 18.59l7.72-7.72 1.47 1.35L5.41 20z\"/>\n",
              "  </svg>\n",
              "      </button>\n",
              "      \n",
              "  <style>\n",
              "    .colab-df-container {\n",
              "      display:flex;\n",
              "      flex-wrap:wrap;\n",
              "      gap: 12px;\n",
              "    }\n",
              "\n",
              "    .colab-df-convert {\n",
              "      background-color: #E8F0FE;\n",
              "      border: none;\n",
              "      border-radius: 50%;\n",
              "      cursor: pointer;\n",
              "      display: none;\n",
              "      fill: #1967D2;\n",
              "      height: 32px;\n",
              "      padding: 0 0 0 0;\n",
              "      width: 32px;\n",
              "    }\n",
              "\n",
              "    .colab-df-convert:hover {\n",
              "      background-color: #E2EBFA;\n",
              "      box-shadow: 0px 1px 2px rgba(60, 64, 67, 0.3), 0px 1px 3px 1px rgba(60, 64, 67, 0.15);\n",
              "      fill: #174EA6;\n",
              "    }\n",
              "\n",
              "    [theme=dark] .colab-df-convert {\n",
              "      background-color: #3B4455;\n",
              "      fill: #D2E3FC;\n",
              "    }\n",
              "\n",
              "    [theme=dark] .colab-df-convert:hover {\n",
              "      background-color: #434B5C;\n",
              "      box-shadow: 0px 1px 3px 1px rgba(0, 0, 0, 0.15);\n",
              "      filter: drop-shadow(0px 1px 2px rgba(0, 0, 0, 0.3));\n",
              "      fill: #FFFFFF;\n",
              "    }\n",
              "  </style>\n",
              "\n",
              "      <script>\n",
              "        const buttonEl =\n",
              "          document.querySelector('#df-1f6bc178-cba3-4bb7-9370-036ff9269be9 button.colab-df-convert');\n",
              "        buttonEl.style.display =\n",
              "          google.colab.kernel.accessAllowed ? 'block' : 'none';\n",
              "\n",
              "        async function convertToInteractive(key) {\n",
              "          const element = document.querySelector('#df-1f6bc178-cba3-4bb7-9370-036ff9269be9');\n",
              "          const dataTable =\n",
              "            await google.colab.kernel.invokeFunction('convertToInteractive',\n",
              "                                                     [key], {});\n",
              "          if (!dataTable) return;\n",
              "\n",
              "          const docLinkHtml = 'Like what you see? Visit the ' +\n",
              "            '<a target=\"_blank\" href=https://colab.research.google.com/notebooks/data_table.ipynb>data table notebook</a>'\n",
              "            + ' to learn more about interactive tables.';\n",
              "          element.innerHTML = '';\n",
              "          dataTable['output_type'] = 'display_data';\n",
              "          await google.colab.output.renderOutput(dataTable, element);\n",
              "          const docLink = document.createElement('div');\n",
              "          docLink.innerHTML = docLinkHtml;\n",
              "          element.appendChild(docLink);\n",
              "        }\n",
              "      </script>\n",
              "    </div>\n",
              "  </div>\n",
              "  "
            ]
          },
          "metadata": {},
          "execution_count": 4
        }
      ]
    },
    {
      "cell_type": "markdown",
      "source": [
        "DATA PREPROCESSING"
      ],
      "metadata": {
        "id": "H0KKJY0tZPB_"
      }
    },
    {
      "cell_type": "code",
      "source": [
        "df.info()"
      ],
      "metadata": {
        "colab": {
          "base_uri": "https://localhost:8080/"
        },
        "id": "vMNvmp4mZHdU",
        "outputId": "9dce3796-2cab-4d83-e9bb-a2540eac7c88"
      },
      "execution_count": 5,
      "outputs": [
        {
          "output_type": "stream",
          "name": "stdout",
          "text": [
            "<class 'pandas.core.frame.DataFrame'>\n",
            "RangeIndex: 234 entries, 0 to 233\n",
            "Data columns (total 17 columns):\n",
            " #   Column                       Non-Null Count  Dtype  \n",
            "---  ------                       --------------  -----  \n",
            " 0   Rank                         234 non-null    int64  \n",
            " 1   CCA3                         234 non-null    object \n",
            " 2   Country                      234 non-null    object \n",
            " 3   Capital                      234 non-null    object \n",
            " 4   Continent                    234 non-null    object \n",
            " 5   2022 Population              234 non-null    int64  \n",
            " 6   2020 Population              234 non-null    int64  \n",
            " 7   2015 Population              234 non-null    int64  \n",
            " 8   2010 Population              234 non-null    int64  \n",
            " 9   2000 Population              234 non-null    int64  \n",
            " 10  1990 Population              234 non-null    int64  \n",
            " 11  1980 Population              234 non-null    int64  \n",
            " 12  1970 Population              234 non-null    int64  \n",
            " 13  Area (km²)                   234 non-null    int64  \n",
            " 14  Density (per km²)            234 non-null    float64\n",
            " 15  Growth Rate                  234 non-null    float64\n",
            " 16  World Population Percentage  234 non-null    float64\n",
            "dtypes: float64(3), int64(10), object(4)\n",
            "memory usage: 31.2+ KB\n"
          ]
        }
      ]
    },
    {
      "cell_type": "code",
      "source": [
        "df.shape"
      ],
      "metadata": {
        "colab": {
          "base_uri": "https://localhost:8080/"
        },
        "id": "h6Lrb78sZNt-",
        "outputId": "87184f42-705b-440a-8004-4860b3b3a65f"
      },
      "execution_count": 6,
      "outputs": [
        {
          "output_type": "execute_result",
          "data": {
            "text/plain": [
              "(234, 17)"
            ]
          },
          "metadata": {},
          "execution_count": 6
        }
      ]
    },
    {
      "cell_type": "code",
      "source": [
        "df.columns"
      ],
      "metadata": {
        "colab": {
          "base_uri": "https://localhost:8080/"
        },
        "id": "IhAUmM78Zg91",
        "outputId": "b49c892e-67a2-4da0-fa2f-07c4a50abbfe"
      },
      "execution_count": 7,
      "outputs": [
        {
          "output_type": "execute_result",
          "data": {
            "text/plain": [
              "Index(['Rank', 'CCA3', 'Country', 'Capital', 'Continent', '2022 Population',\n",
              "       '2020 Population', '2015 Population', '2010 Population',\n",
              "       '2000 Population', '1990 Population', '1980 Population',\n",
              "       '1970 Population', 'Area (km²)', 'Density (per km²)', 'Growth Rate',\n",
              "       'World Population Percentage'],\n",
              "      dtype='object')"
            ]
          },
          "metadata": {},
          "execution_count": 7
        }
      ]
    },
    {
      "cell_type": "code",
      "source": [
        "df.corr()"
      ],
      "metadata": {
        "colab": {
          "base_uri": "https://localhost:8080/",
          "height": 764
        },
        "id": "_w1bHGx9ZiXN",
        "outputId": "545c9fd6-86e2-4311-aef2-58a4ffdca920"
      },
      "execution_count": 8,
      "outputs": [
        {
          "output_type": "execute_result",
          "data": {
            "text/plain": [
              "                                 Rank  2022 Population  2020 Population  \\\n",
              "Rank                         1.000000        -0.358361        -0.355854   \n",
              "2022 Population             -0.358361         1.000000         0.999946   \n",
              "2020 Population             -0.355854         0.999946         1.000000   \n",
              "2015 Population             -0.351222         0.999490         0.999763   \n",
              "2010 Population             -0.347461         0.998629         0.999105   \n",
              "2000 Population             -0.341057         0.994605         0.995583   \n",
              "1990 Population             -0.336152         0.987228         0.988724   \n",
              "1980 Population             -0.335246         0.980285         0.982121   \n",
              "1970 Population             -0.335379         0.973162         0.975254   \n",
              "Area (km²)                  -0.383774         0.453411         0.454993   \n",
              "Density (per km²)            0.129436        -0.027618        -0.027358   \n",
              "Growth Rate                 -0.224561        -0.020863        -0.025116   \n",
              "World Population Percentage -0.358464         0.999999         0.999944   \n",
              "\n",
              "                             2015 Population  2010 Population  \\\n",
              "Rank                               -0.351222        -0.347461   \n",
              "2022 Population                     0.999490         0.998629   \n",
              "2020 Population                     0.999763         0.999105   \n",
              "2015 Population                     1.000000         0.999783   \n",
              "2010 Population                     0.999783         1.000000   \n",
              "2000 Population                     0.997340         0.998593   \n",
              "1990 Population                     0.991594         0.993929   \n",
              "1980 Population                     0.985724         0.988786   \n",
              "1970 Population                     0.979414         0.983042   \n",
              "Area (km²)                          0.458240         0.461936   \n",
              "Density (per km²)                  -0.026857        -0.026505   \n",
              "Growth Rate                        -0.032154        -0.037983   \n",
              "World Population Percentage         0.999487         0.998626   \n",
              "\n",
              "                             2000 Population  1990 Population  \\\n",
              "Rank                               -0.341057        -0.336152   \n",
              "2022 Population                     0.994605         0.987228   \n",
              "2020 Population                     0.995583         0.988724   \n",
              "2015 Population                     0.997340         0.991594   \n",
              "2010 Population                     0.998593         0.993929   \n",
              "2000 Population                     1.000000         0.998336   \n",
              "1990 Population                     0.998336         1.000000   \n",
              "1980 Population                     0.995160         0.999042   \n",
              "1970 Population                     0.990956         0.996602   \n",
              "Area (km²)                          0.473933         0.486764   \n",
              "Density (per km²)                  -0.026139        -0.026224   \n",
              "Growth Rate                        -0.050515        -0.062397   \n",
              "World Population Percentage         0.994598         0.987218   \n",
              "\n",
              "                             1980 Population  1970 Population  Area (km²)  \\\n",
              "Rank                               -0.335246        -0.335379   -0.383774   \n",
              "2022 Population                     0.980285         0.973162    0.453411   \n",
              "2020 Population                     0.982121         0.975254    0.454993   \n",
              "2015 Population                     0.985724         0.979414    0.458240   \n",
              "2010 Population                     0.988786         0.983042    0.461936   \n",
              "2000 Population                     0.995160         0.990956    0.473933   \n",
              "1990 Population                     0.999042         0.996602    0.486764   \n",
              "1980 Population                     1.000000         0.999194    0.498166   \n",
              "1970 Population                     0.999194         1.000000    0.509940   \n",
              "Area (km²)                          0.498166         0.509940    1.000000   \n",
              "Density (per km²)                  -0.026587        -0.026881   -0.063128   \n",
              "Growth Rate                        -0.072349        -0.081313   -0.013970   \n",
              "World Population Percentage         0.980273         0.973150    0.453284   \n",
              "\n",
              "                             Density (per km²)  Growth Rate  \\\n",
              "Rank                                  0.129436    -0.224561   \n",
              "2022 Population                      -0.027618    -0.020863   \n",
              "2020 Population                      -0.027358    -0.025116   \n",
              "2015 Population                      -0.026857    -0.032154   \n",
              "2010 Population                      -0.026505    -0.037983   \n",
              "2000 Population                      -0.026139    -0.050515   \n",
              "1990 Population                      -0.026224    -0.062397   \n",
              "1980 Population                      -0.026587    -0.072349   \n",
              "1970 Population                      -0.026881    -0.081313   \n",
              "Area (km²)                           -0.063128    -0.013970   \n",
              "Density (per km²)                     1.000000    -0.069753   \n",
              "Growth Rate                          -0.069753     1.000000   \n",
              "World Population Percentage          -0.027646    -0.020930   \n",
              "\n",
              "                             World Population Percentage  \n",
              "Rank                                           -0.358464  \n",
              "2022 Population                                 0.999999  \n",
              "2020 Population                                 0.999944  \n",
              "2015 Population                                 0.999487  \n",
              "2010 Population                                 0.998626  \n",
              "2000 Population                                 0.994598  \n",
              "1990 Population                                 0.987218  \n",
              "1980 Population                                 0.980273  \n",
              "1970 Population                                 0.973150  \n",
              "Area (km²)                                      0.453284  \n",
              "Density (per km²)                              -0.027646  \n",
              "Growth Rate                                    -0.020930  \n",
              "World Population Percentage                     1.000000  "
            ],
            "text/html": [
              "\n",
              "  <div id=\"df-a443c693-e007-4b41-9537-60747806fdd7\">\n",
              "    <div class=\"colab-df-container\">\n",
              "      <div>\n",
              "<style scoped>\n",
              "    .dataframe tbody tr th:only-of-type {\n",
              "        vertical-align: middle;\n",
              "    }\n",
              "\n",
              "    .dataframe tbody tr th {\n",
              "        vertical-align: top;\n",
              "    }\n",
              "\n",
              "    .dataframe thead th {\n",
              "        text-align: right;\n",
              "    }\n",
              "</style>\n",
              "<table border=\"1\" class=\"dataframe\">\n",
              "  <thead>\n",
              "    <tr style=\"text-align: right;\">\n",
              "      <th></th>\n",
              "      <th>Rank</th>\n",
              "      <th>2022 Population</th>\n",
              "      <th>2020 Population</th>\n",
              "      <th>2015 Population</th>\n",
              "      <th>2010 Population</th>\n",
              "      <th>2000 Population</th>\n",
              "      <th>1990 Population</th>\n",
              "      <th>1980 Population</th>\n",
              "      <th>1970 Population</th>\n",
              "      <th>Area (km²)</th>\n",
              "      <th>Density (per km²)</th>\n",
              "      <th>Growth Rate</th>\n",
              "      <th>World Population Percentage</th>\n",
              "    </tr>\n",
              "  </thead>\n",
              "  <tbody>\n",
              "    <tr>\n",
              "      <th>Rank</th>\n",
              "      <td>1.000000</td>\n",
              "      <td>-0.358361</td>\n",
              "      <td>-0.355854</td>\n",
              "      <td>-0.351222</td>\n",
              "      <td>-0.347461</td>\n",
              "      <td>-0.341057</td>\n",
              "      <td>-0.336152</td>\n",
              "      <td>-0.335246</td>\n",
              "      <td>-0.335379</td>\n",
              "      <td>-0.383774</td>\n",
              "      <td>0.129436</td>\n",
              "      <td>-0.224561</td>\n",
              "      <td>-0.358464</td>\n",
              "    </tr>\n",
              "    <tr>\n",
              "      <th>2022 Population</th>\n",
              "      <td>-0.358361</td>\n",
              "      <td>1.000000</td>\n",
              "      <td>0.999946</td>\n",
              "      <td>0.999490</td>\n",
              "      <td>0.998629</td>\n",
              "      <td>0.994605</td>\n",
              "      <td>0.987228</td>\n",
              "      <td>0.980285</td>\n",
              "      <td>0.973162</td>\n",
              "      <td>0.453411</td>\n",
              "      <td>-0.027618</td>\n",
              "      <td>-0.020863</td>\n",
              "      <td>0.999999</td>\n",
              "    </tr>\n",
              "    <tr>\n",
              "      <th>2020 Population</th>\n",
              "      <td>-0.355854</td>\n",
              "      <td>0.999946</td>\n",
              "      <td>1.000000</td>\n",
              "      <td>0.999763</td>\n",
              "      <td>0.999105</td>\n",
              "      <td>0.995583</td>\n",
              "      <td>0.988724</td>\n",
              "      <td>0.982121</td>\n",
              "      <td>0.975254</td>\n",
              "      <td>0.454993</td>\n",
              "      <td>-0.027358</td>\n",
              "      <td>-0.025116</td>\n",
              "      <td>0.999944</td>\n",
              "    </tr>\n",
              "    <tr>\n",
              "      <th>2015 Population</th>\n",
              "      <td>-0.351222</td>\n",
              "      <td>0.999490</td>\n",
              "      <td>0.999763</td>\n",
              "      <td>1.000000</td>\n",
              "      <td>0.999783</td>\n",
              "      <td>0.997340</td>\n",
              "      <td>0.991594</td>\n",
              "      <td>0.985724</td>\n",
              "      <td>0.979414</td>\n",
              "      <td>0.458240</td>\n",
              "      <td>-0.026857</td>\n",
              "      <td>-0.032154</td>\n",
              "      <td>0.999487</td>\n",
              "    </tr>\n",
              "    <tr>\n",
              "      <th>2010 Population</th>\n",
              "      <td>-0.347461</td>\n",
              "      <td>0.998629</td>\n",
              "      <td>0.999105</td>\n",
              "      <td>0.999783</td>\n",
              "      <td>1.000000</td>\n",
              "      <td>0.998593</td>\n",
              "      <td>0.993929</td>\n",
              "      <td>0.988786</td>\n",
              "      <td>0.983042</td>\n",
              "      <td>0.461936</td>\n",
              "      <td>-0.026505</td>\n",
              "      <td>-0.037983</td>\n",
              "      <td>0.998626</td>\n",
              "    </tr>\n",
              "    <tr>\n",
              "      <th>2000 Population</th>\n",
              "      <td>-0.341057</td>\n",
              "      <td>0.994605</td>\n",
              "      <td>0.995583</td>\n",
              "      <td>0.997340</td>\n",
              "      <td>0.998593</td>\n",
              "      <td>1.000000</td>\n",
              "      <td>0.998336</td>\n",
              "      <td>0.995160</td>\n",
              "      <td>0.990956</td>\n",
              "      <td>0.473933</td>\n",
              "      <td>-0.026139</td>\n",
              "      <td>-0.050515</td>\n",
              "      <td>0.994598</td>\n",
              "    </tr>\n",
              "    <tr>\n",
              "      <th>1990 Population</th>\n",
              "      <td>-0.336152</td>\n",
              "      <td>0.987228</td>\n",
              "      <td>0.988724</td>\n",
              "      <td>0.991594</td>\n",
              "      <td>0.993929</td>\n",
              "      <td>0.998336</td>\n",
              "      <td>1.000000</td>\n",
              "      <td>0.999042</td>\n",
              "      <td>0.996602</td>\n",
              "      <td>0.486764</td>\n",
              "      <td>-0.026224</td>\n",
              "      <td>-0.062397</td>\n",
              "      <td>0.987218</td>\n",
              "    </tr>\n",
              "    <tr>\n",
              "      <th>1980 Population</th>\n",
              "      <td>-0.335246</td>\n",
              "      <td>0.980285</td>\n",
              "      <td>0.982121</td>\n",
              "      <td>0.985724</td>\n",
              "      <td>0.988786</td>\n",
              "      <td>0.995160</td>\n",
              "      <td>0.999042</td>\n",
              "      <td>1.000000</td>\n",
              "      <td>0.999194</td>\n",
              "      <td>0.498166</td>\n",
              "      <td>-0.026587</td>\n",
              "      <td>-0.072349</td>\n",
              "      <td>0.980273</td>\n",
              "    </tr>\n",
              "    <tr>\n",
              "      <th>1970 Population</th>\n",
              "      <td>-0.335379</td>\n",
              "      <td>0.973162</td>\n",
              "      <td>0.975254</td>\n",
              "      <td>0.979414</td>\n",
              "      <td>0.983042</td>\n",
              "      <td>0.990956</td>\n",
              "      <td>0.996602</td>\n",
              "      <td>0.999194</td>\n",
              "      <td>1.000000</td>\n",
              "      <td>0.509940</td>\n",
              "      <td>-0.026881</td>\n",
              "      <td>-0.081313</td>\n",
              "      <td>0.973150</td>\n",
              "    </tr>\n",
              "    <tr>\n",
              "      <th>Area (km²)</th>\n",
              "      <td>-0.383774</td>\n",
              "      <td>0.453411</td>\n",
              "      <td>0.454993</td>\n",
              "      <td>0.458240</td>\n",
              "      <td>0.461936</td>\n",
              "      <td>0.473933</td>\n",
              "      <td>0.486764</td>\n",
              "      <td>0.498166</td>\n",
              "      <td>0.509940</td>\n",
              "      <td>1.000000</td>\n",
              "      <td>-0.063128</td>\n",
              "      <td>-0.013970</td>\n",
              "      <td>0.453284</td>\n",
              "    </tr>\n",
              "    <tr>\n",
              "      <th>Density (per km²)</th>\n",
              "      <td>0.129436</td>\n",
              "      <td>-0.027618</td>\n",
              "      <td>-0.027358</td>\n",
              "      <td>-0.026857</td>\n",
              "      <td>-0.026505</td>\n",
              "      <td>-0.026139</td>\n",
              "      <td>-0.026224</td>\n",
              "      <td>-0.026587</td>\n",
              "      <td>-0.026881</td>\n",
              "      <td>-0.063128</td>\n",
              "      <td>1.000000</td>\n",
              "      <td>-0.069753</td>\n",
              "      <td>-0.027646</td>\n",
              "    </tr>\n",
              "    <tr>\n",
              "      <th>Growth Rate</th>\n",
              "      <td>-0.224561</td>\n",
              "      <td>-0.020863</td>\n",
              "      <td>-0.025116</td>\n",
              "      <td>-0.032154</td>\n",
              "      <td>-0.037983</td>\n",
              "      <td>-0.050515</td>\n",
              "      <td>-0.062397</td>\n",
              "      <td>-0.072349</td>\n",
              "      <td>-0.081313</td>\n",
              "      <td>-0.013970</td>\n",
              "      <td>-0.069753</td>\n",
              "      <td>1.000000</td>\n",
              "      <td>-0.020930</td>\n",
              "    </tr>\n",
              "    <tr>\n",
              "      <th>World Population Percentage</th>\n",
              "      <td>-0.358464</td>\n",
              "      <td>0.999999</td>\n",
              "      <td>0.999944</td>\n",
              "      <td>0.999487</td>\n",
              "      <td>0.998626</td>\n",
              "      <td>0.994598</td>\n",
              "      <td>0.987218</td>\n",
              "      <td>0.980273</td>\n",
              "      <td>0.973150</td>\n",
              "      <td>0.453284</td>\n",
              "      <td>-0.027646</td>\n",
              "      <td>-0.020930</td>\n",
              "      <td>1.000000</td>\n",
              "    </tr>\n",
              "  </tbody>\n",
              "</table>\n",
              "</div>\n",
              "      <button class=\"colab-df-convert\" onclick=\"convertToInteractive('df-a443c693-e007-4b41-9537-60747806fdd7')\"\n",
              "              title=\"Convert this dataframe to an interactive table.\"\n",
              "              style=\"display:none;\">\n",
              "        \n",
              "  <svg xmlns=\"http://www.w3.org/2000/svg\" height=\"24px\"viewBox=\"0 0 24 24\"\n",
              "       width=\"24px\">\n",
              "    <path d=\"M0 0h24v24H0V0z\" fill=\"none\"/>\n",
              "    <path d=\"M18.56 5.44l.94 2.06.94-2.06 2.06-.94-2.06-.94-.94-2.06-.94 2.06-2.06.94zm-11 1L8.5 8.5l.94-2.06 2.06-.94-2.06-.94L8.5 2.5l-.94 2.06-2.06.94zm10 10l.94 2.06.94-2.06 2.06-.94-2.06-.94-.94-2.06-.94 2.06-2.06.94z\"/><path d=\"M17.41 7.96l-1.37-1.37c-.4-.4-.92-.59-1.43-.59-.52 0-1.04.2-1.43.59L10.3 9.45l-7.72 7.72c-.78.78-.78 2.05 0 2.83L4 21.41c.39.39.9.59 1.41.59.51 0 1.02-.2 1.41-.59l7.78-7.78 2.81-2.81c.8-.78.8-2.07 0-2.86zM5.41 20L4 18.59l7.72-7.72 1.47 1.35L5.41 20z\"/>\n",
              "  </svg>\n",
              "      </button>\n",
              "      \n",
              "  <style>\n",
              "    .colab-df-container {\n",
              "      display:flex;\n",
              "      flex-wrap:wrap;\n",
              "      gap: 12px;\n",
              "    }\n",
              "\n",
              "    .colab-df-convert {\n",
              "      background-color: #E8F0FE;\n",
              "      border: none;\n",
              "      border-radius: 50%;\n",
              "      cursor: pointer;\n",
              "      display: none;\n",
              "      fill: #1967D2;\n",
              "      height: 32px;\n",
              "      padding: 0 0 0 0;\n",
              "      width: 32px;\n",
              "    }\n",
              "\n",
              "    .colab-df-convert:hover {\n",
              "      background-color: #E2EBFA;\n",
              "      box-shadow: 0px 1px 2px rgba(60, 64, 67, 0.3), 0px 1px 3px 1px rgba(60, 64, 67, 0.15);\n",
              "      fill: #174EA6;\n",
              "    }\n",
              "\n",
              "    [theme=dark] .colab-df-convert {\n",
              "      background-color: #3B4455;\n",
              "      fill: #D2E3FC;\n",
              "    }\n",
              "\n",
              "    [theme=dark] .colab-df-convert:hover {\n",
              "      background-color: #434B5C;\n",
              "      box-shadow: 0px 1px 3px 1px rgba(0, 0, 0, 0.15);\n",
              "      filter: drop-shadow(0px 1px 2px rgba(0, 0, 0, 0.3));\n",
              "      fill: #FFFFFF;\n",
              "    }\n",
              "  </style>\n",
              "\n",
              "      <script>\n",
              "        const buttonEl =\n",
              "          document.querySelector('#df-a443c693-e007-4b41-9537-60747806fdd7 button.colab-df-convert');\n",
              "        buttonEl.style.display =\n",
              "          google.colab.kernel.accessAllowed ? 'block' : 'none';\n",
              "\n",
              "        async function convertToInteractive(key) {\n",
              "          const element = document.querySelector('#df-a443c693-e007-4b41-9537-60747806fdd7');\n",
              "          const dataTable =\n",
              "            await google.colab.kernel.invokeFunction('convertToInteractive',\n",
              "                                                     [key], {});\n",
              "          if (!dataTable) return;\n",
              "\n",
              "          const docLinkHtml = 'Like what you see? Visit the ' +\n",
              "            '<a target=\"_blank\" href=https://colab.research.google.com/notebooks/data_table.ipynb>data table notebook</a>'\n",
              "            + ' to learn more about interactive tables.';\n",
              "          element.innerHTML = '';\n",
              "          dataTable['output_type'] = 'display_data';\n",
              "          await google.colab.output.renderOutput(dataTable, element);\n",
              "          const docLink = document.createElement('div');\n",
              "          docLink.innerHTML = docLinkHtml;\n",
              "          element.appendChild(docLink);\n",
              "        }\n",
              "      </script>\n",
              "    </div>\n",
              "  </div>\n",
              "  "
            ]
          },
          "metadata": {},
          "execution_count": 8
        }
      ]
    },
    {
      "cell_type": "code",
      "source": [
        "df.describe()"
      ],
      "metadata": {
        "colab": {
          "base_uri": "https://localhost:8080/",
          "height": 399
        },
        "id": "inEY8zUwZkto",
        "outputId": "86613d42-a35c-4065-f52e-f34faace6ea7"
      },
      "execution_count": 9,
      "outputs": [
        {
          "output_type": "execute_result",
          "data": {
            "text/plain": [
              "             Rank  2022 Population  2020 Population  2015 Population  \\\n",
              "count  234.000000     2.340000e+02     2.340000e+02     2.340000e+02   \n",
              "mean   117.500000     3.407441e+07     3.350107e+07     3.172996e+07   \n",
              "std     67.694165     1.367664e+08     1.355899e+08     1.304050e+08   \n",
              "min      1.000000     5.100000e+02     5.200000e+02     5.640000e+02   \n",
              "25%     59.250000     4.197385e+05     4.152845e+05     4.046760e+05   \n",
              "50%    117.500000     5.559944e+06     5.493074e+06     5.307400e+06   \n",
              "75%    175.750000     2.247650e+07     2.144798e+07     1.973085e+07   \n",
              "max    234.000000     1.425887e+09     1.424930e+09     1.393715e+09   \n",
              "\n",
              "       2010 Population  2000 Population  1990 Population  1980 Population  \\\n",
              "count     2.340000e+02     2.340000e+02     2.340000e+02     2.340000e+02   \n",
              "mean      2.984524e+07     2.626947e+07     2.271022e+07     1.898462e+07   \n",
              "std       1.242185e+08     1.116982e+08     9.783217e+07     8.178519e+07   \n",
              "min       5.960000e+02     6.510000e+02     7.000000e+02     7.330000e+02   \n",
              "25%       3.931490e+05     3.272420e+05     2.641158e+05     2.296142e+05   \n",
              "50%       4.942770e+06     4.292907e+06     3.825410e+06     3.141146e+06   \n",
              "75%       1.915957e+07     1.576230e+07     1.186923e+07     9.826054e+06   \n",
              "max       1.348191e+09     1.264099e+09     1.153704e+09     9.823725e+08   \n",
              "\n",
              "       1970 Population    Area (km²)  Density (per km²)  Growth Rate  \\\n",
              "count     2.340000e+02  2.340000e+02         234.000000   234.000000   \n",
              "mean      1.578691e+07  5.814494e+05         452.127044     1.009577   \n",
              "std       6.779509e+07  1.761841e+06        2066.121904     0.013385   \n",
              "min       7.520000e+02  1.000000e+00           0.026100     0.912000   \n",
              "25%       1.559970e+05  2.650000e+03          38.417875     1.001775   \n",
              "50%       2.604830e+06  8.119950e+04          95.346750     1.007900   \n",
              "75%       8.817329e+06  4.304258e+05         238.933250     1.016950   \n",
              "max       8.225344e+08  1.709824e+07       23172.266700     1.069100   \n",
              "\n",
              "       World Population Percentage  \n",
              "count                   234.000000  \n",
              "mean                      0.427051  \n",
              "std                       1.714977  \n",
              "min                       0.000000  \n",
              "25%                       0.010000  \n",
              "50%                       0.070000  \n",
              "75%                       0.280000  \n",
              "max                      17.880000  "
            ],
            "text/html": [
              "\n",
              "  <div id=\"df-be79614d-a75a-4677-bd90-815a07a8e4c1\">\n",
              "    <div class=\"colab-df-container\">\n",
              "      <div>\n",
              "<style scoped>\n",
              "    .dataframe tbody tr th:only-of-type {\n",
              "        vertical-align: middle;\n",
              "    }\n",
              "\n",
              "    .dataframe tbody tr th {\n",
              "        vertical-align: top;\n",
              "    }\n",
              "\n",
              "    .dataframe thead th {\n",
              "        text-align: right;\n",
              "    }\n",
              "</style>\n",
              "<table border=\"1\" class=\"dataframe\">\n",
              "  <thead>\n",
              "    <tr style=\"text-align: right;\">\n",
              "      <th></th>\n",
              "      <th>Rank</th>\n",
              "      <th>2022 Population</th>\n",
              "      <th>2020 Population</th>\n",
              "      <th>2015 Population</th>\n",
              "      <th>2010 Population</th>\n",
              "      <th>2000 Population</th>\n",
              "      <th>1990 Population</th>\n",
              "      <th>1980 Population</th>\n",
              "      <th>1970 Population</th>\n",
              "      <th>Area (km²)</th>\n",
              "      <th>Density (per km²)</th>\n",
              "      <th>Growth Rate</th>\n",
              "      <th>World Population Percentage</th>\n",
              "    </tr>\n",
              "  </thead>\n",
              "  <tbody>\n",
              "    <tr>\n",
              "      <th>count</th>\n",
              "      <td>234.000000</td>\n",
              "      <td>2.340000e+02</td>\n",
              "      <td>2.340000e+02</td>\n",
              "      <td>2.340000e+02</td>\n",
              "      <td>2.340000e+02</td>\n",
              "      <td>2.340000e+02</td>\n",
              "      <td>2.340000e+02</td>\n",
              "      <td>2.340000e+02</td>\n",
              "      <td>2.340000e+02</td>\n",
              "      <td>2.340000e+02</td>\n",
              "      <td>234.000000</td>\n",
              "      <td>234.000000</td>\n",
              "      <td>234.000000</td>\n",
              "    </tr>\n",
              "    <tr>\n",
              "      <th>mean</th>\n",
              "      <td>117.500000</td>\n",
              "      <td>3.407441e+07</td>\n",
              "      <td>3.350107e+07</td>\n",
              "      <td>3.172996e+07</td>\n",
              "      <td>2.984524e+07</td>\n",
              "      <td>2.626947e+07</td>\n",
              "      <td>2.271022e+07</td>\n",
              "      <td>1.898462e+07</td>\n",
              "      <td>1.578691e+07</td>\n",
              "      <td>5.814494e+05</td>\n",
              "      <td>452.127044</td>\n",
              "      <td>1.009577</td>\n",
              "      <td>0.427051</td>\n",
              "    </tr>\n",
              "    <tr>\n",
              "      <th>std</th>\n",
              "      <td>67.694165</td>\n",
              "      <td>1.367664e+08</td>\n",
              "      <td>1.355899e+08</td>\n",
              "      <td>1.304050e+08</td>\n",
              "      <td>1.242185e+08</td>\n",
              "      <td>1.116982e+08</td>\n",
              "      <td>9.783217e+07</td>\n",
              "      <td>8.178519e+07</td>\n",
              "      <td>6.779509e+07</td>\n",
              "      <td>1.761841e+06</td>\n",
              "      <td>2066.121904</td>\n",
              "      <td>0.013385</td>\n",
              "      <td>1.714977</td>\n",
              "    </tr>\n",
              "    <tr>\n",
              "      <th>min</th>\n",
              "      <td>1.000000</td>\n",
              "      <td>5.100000e+02</td>\n",
              "      <td>5.200000e+02</td>\n",
              "      <td>5.640000e+02</td>\n",
              "      <td>5.960000e+02</td>\n",
              "      <td>6.510000e+02</td>\n",
              "      <td>7.000000e+02</td>\n",
              "      <td>7.330000e+02</td>\n",
              "      <td>7.520000e+02</td>\n",
              "      <td>1.000000e+00</td>\n",
              "      <td>0.026100</td>\n",
              "      <td>0.912000</td>\n",
              "      <td>0.000000</td>\n",
              "    </tr>\n",
              "    <tr>\n",
              "      <th>25%</th>\n",
              "      <td>59.250000</td>\n",
              "      <td>4.197385e+05</td>\n",
              "      <td>4.152845e+05</td>\n",
              "      <td>4.046760e+05</td>\n",
              "      <td>3.931490e+05</td>\n",
              "      <td>3.272420e+05</td>\n",
              "      <td>2.641158e+05</td>\n",
              "      <td>2.296142e+05</td>\n",
              "      <td>1.559970e+05</td>\n",
              "      <td>2.650000e+03</td>\n",
              "      <td>38.417875</td>\n",
              "      <td>1.001775</td>\n",
              "      <td>0.010000</td>\n",
              "    </tr>\n",
              "    <tr>\n",
              "      <th>50%</th>\n",
              "      <td>117.500000</td>\n",
              "      <td>5.559944e+06</td>\n",
              "      <td>5.493074e+06</td>\n",
              "      <td>5.307400e+06</td>\n",
              "      <td>4.942770e+06</td>\n",
              "      <td>4.292907e+06</td>\n",
              "      <td>3.825410e+06</td>\n",
              "      <td>3.141146e+06</td>\n",
              "      <td>2.604830e+06</td>\n",
              "      <td>8.119950e+04</td>\n",
              "      <td>95.346750</td>\n",
              "      <td>1.007900</td>\n",
              "      <td>0.070000</td>\n",
              "    </tr>\n",
              "    <tr>\n",
              "      <th>75%</th>\n",
              "      <td>175.750000</td>\n",
              "      <td>2.247650e+07</td>\n",
              "      <td>2.144798e+07</td>\n",
              "      <td>1.973085e+07</td>\n",
              "      <td>1.915957e+07</td>\n",
              "      <td>1.576230e+07</td>\n",
              "      <td>1.186923e+07</td>\n",
              "      <td>9.826054e+06</td>\n",
              "      <td>8.817329e+06</td>\n",
              "      <td>4.304258e+05</td>\n",
              "      <td>238.933250</td>\n",
              "      <td>1.016950</td>\n",
              "      <td>0.280000</td>\n",
              "    </tr>\n",
              "    <tr>\n",
              "      <th>max</th>\n",
              "      <td>234.000000</td>\n",
              "      <td>1.425887e+09</td>\n",
              "      <td>1.424930e+09</td>\n",
              "      <td>1.393715e+09</td>\n",
              "      <td>1.348191e+09</td>\n",
              "      <td>1.264099e+09</td>\n",
              "      <td>1.153704e+09</td>\n",
              "      <td>9.823725e+08</td>\n",
              "      <td>8.225344e+08</td>\n",
              "      <td>1.709824e+07</td>\n",
              "      <td>23172.266700</td>\n",
              "      <td>1.069100</td>\n",
              "      <td>17.880000</td>\n",
              "    </tr>\n",
              "  </tbody>\n",
              "</table>\n",
              "</div>\n",
              "      <button class=\"colab-df-convert\" onclick=\"convertToInteractive('df-be79614d-a75a-4677-bd90-815a07a8e4c1')\"\n",
              "              title=\"Convert this dataframe to an interactive table.\"\n",
              "              style=\"display:none;\">\n",
              "        \n",
              "  <svg xmlns=\"http://www.w3.org/2000/svg\" height=\"24px\"viewBox=\"0 0 24 24\"\n",
              "       width=\"24px\">\n",
              "    <path d=\"M0 0h24v24H0V0z\" fill=\"none\"/>\n",
              "    <path d=\"M18.56 5.44l.94 2.06.94-2.06 2.06-.94-2.06-.94-.94-2.06-.94 2.06-2.06.94zm-11 1L8.5 8.5l.94-2.06 2.06-.94-2.06-.94L8.5 2.5l-.94 2.06-2.06.94zm10 10l.94 2.06.94-2.06 2.06-.94-2.06-.94-.94-2.06-.94 2.06-2.06.94z\"/><path d=\"M17.41 7.96l-1.37-1.37c-.4-.4-.92-.59-1.43-.59-.52 0-1.04.2-1.43.59L10.3 9.45l-7.72 7.72c-.78.78-.78 2.05 0 2.83L4 21.41c.39.39.9.59 1.41.59.51 0 1.02-.2 1.41-.59l7.78-7.78 2.81-2.81c.8-.78.8-2.07 0-2.86zM5.41 20L4 18.59l7.72-7.72 1.47 1.35L5.41 20z\"/>\n",
              "  </svg>\n",
              "      </button>\n",
              "      \n",
              "  <style>\n",
              "    .colab-df-container {\n",
              "      display:flex;\n",
              "      flex-wrap:wrap;\n",
              "      gap: 12px;\n",
              "    }\n",
              "\n",
              "    .colab-df-convert {\n",
              "      background-color: #E8F0FE;\n",
              "      border: none;\n",
              "      border-radius: 50%;\n",
              "      cursor: pointer;\n",
              "      display: none;\n",
              "      fill: #1967D2;\n",
              "      height: 32px;\n",
              "      padding: 0 0 0 0;\n",
              "      width: 32px;\n",
              "    }\n",
              "\n",
              "    .colab-df-convert:hover {\n",
              "      background-color: #E2EBFA;\n",
              "      box-shadow: 0px 1px 2px rgba(60, 64, 67, 0.3), 0px 1px 3px 1px rgba(60, 64, 67, 0.15);\n",
              "      fill: #174EA6;\n",
              "    }\n",
              "\n",
              "    [theme=dark] .colab-df-convert {\n",
              "      background-color: #3B4455;\n",
              "      fill: #D2E3FC;\n",
              "    }\n",
              "\n",
              "    [theme=dark] .colab-df-convert:hover {\n",
              "      background-color: #434B5C;\n",
              "      box-shadow: 0px 1px 3px 1px rgba(0, 0, 0, 0.15);\n",
              "      filter: drop-shadow(0px 1px 2px rgba(0, 0, 0, 0.3));\n",
              "      fill: #FFFFFF;\n",
              "    }\n",
              "  </style>\n",
              "\n",
              "      <script>\n",
              "        const buttonEl =\n",
              "          document.querySelector('#df-be79614d-a75a-4677-bd90-815a07a8e4c1 button.colab-df-convert');\n",
              "        buttonEl.style.display =\n",
              "          google.colab.kernel.accessAllowed ? 'block' : 'none';\n",
              "\n",
              "        async function convertToInteractive(key) {\n",
              "          const element = document.querySelector('#df-be79614d-a75a-4677-bd90-815a07a8e4c1');\n",
              "          const dataTable =\n",
              "            await google.colab.kernel.invokeFunction('convertToInteractive',\n",
              "                                                     [key], {});\n",
              "          if (!dataTable) return;\n",
              "\n",
              "          const docLinkHtml = 'Like what you see? Visit the ' +\n",
              "            '<a target=\"_blank\" href=https://colab.research.google.com/notebooks/data_table.ipynb>data table notebook</a>'\n",
              "            + ' to learn more about interactive tables.';\n",
              "          element.innerHTML = '';\n",
              "          dataTable['output_type'] = 'display_data';\n",
              "          await google.colab.output.renderOutput(dataTable, element);\n",
              "          const docLink = document.createElement('div');\n",
              "          docLink.innerHTML = docLinkHtml;\n",
              "          element.appendChild(docLink);\n",
              "        }\n",
              "      </script>\n",
              "    </div>\n",
              "  </div>\n",
              "  "
            ]
          },
          "metadata": {},
          "execution_count": 9
        }
      ]
    },
    {
      "cell_type": "code",
      "source": [
        "df.sum().isna()"
      ],
      "metadata": {
        "colab": {
          "base_uri": "https://localhost:8080/"
        },
        "id": "xZ_AbmZSaxxb",
        "outputId": "4c778d68-e1b9-4fc0-ae7d-d4fcbfab35fe"
      },
      "execution_count": 10,
      "outputs": [
        {
          "output_type": "execute_result",
          "data": {
            "text/plain": [
              "Rank                           False\n",
              "CCA3                           False\n",
              "Country                        False\n",
              "Capital                        False\n",
              "Continent                      False\n",
              "2022 Population                False\n",
              "2020 Population                False\n",
              "2015 Population                False\n",
              "2010 Population                False\n",
              "2000 Population                False\n",
              "1990 Population                False\n",
              "1980 Population                False\n",
              "1970 Population                False\n",
              "Area (km²)                     False\n",
              "Density (per km²)              False\n",
              "Growth Rate                    False\n",
              "World Population Percentage    False\n",
              "dtype: bool"
            ]
          },
          "metadata": {},
          "execution_count": 10
        }
      ]
    },
    {
      "cell_type": "code",
      "source": [
        "df.dtypes"
      ],
      "metadata": {
        "colab": {
          "base_uri": "https://localhost:8080/"
        },
        "id": "hqNPbbO-a5L6",
        "outputId": "c9ff7f8e-97cc-41da-dbb0-01b98819b3ad"
      },
      "execution_count": 11,
      "outputs": [
        {
          "output_type": "execute_result",
          "data": {
            "text/plain": [
              "Rank                             int64\n",
              "CCA3                            object\n",
              "Country                         object\n",
              "Capital                         object\n",
              "Continent                       object\n",
              "2022 Population                  int64\n",
              "2020 Population                  int64\n",
              "2015 Population                  int64\n",
              "2010 Population                  int64\n",
              "2000 Population                  int64\n",
              "1990 Population                  int64\n",
              "1980 Population                  int64\n",
              "1970 Population                  int64\n",
              "Area (km²)                       int64\n",
              "Density (per km²)              float64\n",
              "Growth Rate                    float64\n",
              "World Population Percentage    float64\n",
              "dtype: object"
            ]
          },
          "metadata": {},
          "execution_count": 11
        }
      ]
    },
    {
      "cell_type": "markdown",
      "source": [
        "CONVERTING ALL THE OBJECTS INTO INTEGERS"
      ],
      "metadata": {
        "id": "yncObNWCbrn4"
      }
    },
    {
      "cell_type": "code",
      "source": [
        "# Import label encoder\n",
        "from sklearn import preprocessing\n",
        "\n",
        "# label_encoder object knows how to understand word labels.\n",
        "label_encoder = preprocessing.LabelEncoder()\n",
        "\n",
        "# Encode labels in column 'Product Type'.\n",
        "df['CCA3']= label_encoder.fit_transform(df['CCA3'])\n",
        "df['CCA3'].unique()\n"
      ],
      "metadata": {
        "colab": {
          "base_uri": "https://localhost:8080/"
        },
        "id": "DFBlpekBbnuk",
        "outputId": "0f2a2ddf-1762-49d6-ce8d-af9a1e4b1541"
      },
      "execution_count": 12,
      "outputs": [
        {
          "output_type": "execute_result",
          "data": {
            "text/plain": [
              "array([  1,   4,  57,   9,   5,   2,   3,  10,   7,   8,   0,  11,  12,\n",
              "        13,  21,  20,  18,  29,  24,  15,  25,  16,  26,  31,  27,  22,\n",
              "        32,  28, 224,  30,  19,  17,  14, 110,  39,  34,  45,  49,  33,\n",
              "       202,  36,  37,  43,  44,  42,  46,  91,  47,  48,  50,  51,  55,\n",
              "        53,  54,  56,  40,  58,  59, 186,  81,  60,  63, 197,  64,  67,\n",
              "        69,  66,  65,  68,  86, 174,  71,  79,  73,  52,  75,  76,  82,\n",
              "        84,  83,  78,  87,  85,  74,  77,  80,  88,  92,  90,  89,  93,\n",
              "       100,  96,  94,  98,  99,  97,  95, 101, 102,  38, 103, 106, 104,\n",
              "       105, 107, 108, 111, 114, 109, 115, 125, 116, 122, 117, 118, 120,\n",
              "       123, 124, 126, 131, 146, 147, 132, 136, 137, 134, 144, 142, 145,\n",
              "       148, 133,  70, 130, 129, 140, 139, 143, 128, 141, 138, 149, 159,\n",
              "       158, 156, 150, 160, 154, 151, 153, 155, 170, 135, 152, 157, 161,\n",
              "       162, 166, 173, 163, 167, 172, 164, 165, 168, 171, 169, 175,  41,\n",
              "       176, 177, 178, 179,  23, 112, 119, 127, 189, 222, 229, 187, 192,\n",
              "       180, 182, 190, 199, 185, 183, 198, 194, 195, 184, 188, 231, 113,\n",
              "       191,  62, 121, 181, 193, 196,  35, 200, 214, 205, 215, 204, 208,\n",
              "       203, 206, 209, 210, 211, 212, 207, 201, 213, 216, 217,   6,  72,\n",
              "       219, 225, 218, 220, 227, 221, 223, 226, 228,  61, 230, 232, 233])"
            ]
          },
          "metadata": {},
          "execution_count": 12
        }
      ]
    },
    {
      "cell_type": "code",
      "source": [
        "df['Country']= label_encoder.fit_transform(df['Country'])\n",
        "df['Country'].unique()"
      ],
      "metadata": {
        "id": "tA7O10zOb14d",
        "colab": {
          "base_uri": "https://localhost:8080/"
        },
        "outputId": "b72d3b47-b33c-4423-86db-97038104a263"
      },
      "execution_count": 15,
      "outputs": [
        {
          "output_type": "execute_result",
          "data": {
            "text/plain": [
              "array([  0,   1,   2,   3,   4,   5,   6,   7,   8,   9,  10,  11,  12,\n",
              "        13,  14,  15,  16,  17,  18,  19,  20,  21,  22,  23,  24,  25,\n",
              "        26,  27,  28,  29,  30,  31,  32,  33,  34,  35,  36,  37,  38,\n",
              "        39,  40,  41,  42,  43,  44,  45,  46,  47,  48,  49,  50,  52,\n",
              "        53,  54,  55,  51,  56,  57,  58,  59,  60,  61,  62,  63,  64,\n",
              "        65,  66,  67,  68,  69,  70,  71,  72,  73,  74,  75,  76,  77,\n",
              "        78,  79,  80,  81,  82,  83,  84,  85,  86,  87,  88,  89,  90,\n",
              "        91,  92,  93,  94,  95,  96,  97,  98,  99, 100, 101, 102, 103,\n",
              "       104, 105, 106, 107, 108, 109, 110, 111, 112, 113, 114, 115, 116,\n",
              "       117, 118, 119, 120, 121, 122, 123, 124, 125, 126, 127, 128, 129,\n",
              "       130, 131, 132, 133, 134, 135, 136, 137, 138, 139, 140, 141, 142,\n",
              "       143, 144, 145, 146, 147, 148, 149, 150, 151, 152, 153, 154, 155,\n",
              "       156, 157, 158, 159, 160, 161, 162, 163, 164, 165, 166, 167, 168,\n",
              "       169, 170, 171, 172, 173, 174, 175, 176, 177, 178, 179, 180, 181,\n",
              "       182, 183, 184, 185, 186, 187, 188, 189, 190, 191, 192, 193, 194,\n",
              "       195, 196, 197, 198, 199, 200, 201, 202, 203, 204, 205, 206, 207,\n",
              "       208, 209, 210, 211, 212, 213, 214, 215, 216, 217, 218, 219, 220,\n",
              "       221, 222, 223, 224, 225, 226, 227, 228, 229, 230, 231, 232, 233])"
            ]
          },
          "metadata": {},
          "execution_count": 15
        }
      ]
    },
    {
      "cell_type": "code",
      "source": [
        "df['Capital']= label_encoder.fit_transform(df['Capital'])\n",
        "df['Capital'].unique()"
      ],
      "metadata": {
        "colab": {
          "base_uri": "https://localhost:8080/"
        },
        "id": "rWnSYKbTvRJ_",
        "outputId": "9145f468-dd20-4498-c7bc-82c27642919c"
      },
      "execution_count": 17,
      "outputs": [
        {
          "output_type": "execute_result",
          "data": {
            "text/plain": [
              "array([ 89, 211,   4, 150,   8, 107, 209, 180,  43, 232, 146,  46, 221,\n",
              "        18, 134, 116,  59,  39, 124,  40,  29, 164,  78, 210, 199, 192,\n",
              "        71,  36, 175,  20, 196, 149,  44, 157, 230, 148, 166,  72,  22,\n",
              "       132, 190,  26,  34, 129,  16, 185, 233,  81, 227, 139, 165,  56,\n",
              "        61, 177, 191,  97, 169,  45, 188, 112,  13, 203, 122,   3, 197,\n",
              "       215, 200,  82, 155,  49, 153, 100,  23, 206,  30,   2,  74,  15,\n",
              "       145, 178,  24,  77,  75, 181,  54,  33,  73, 162, 207,  83,  42,\n",
              "       172, 136,  86, 208,  17,  65,  64,  87, 176, 229,  95, 212, 179,\n",
              "         6, 144, 133, 204,  99,  32, 222, 173,  27, 120, 127, 213, 217,\n",
              "       223, 109,  55,  10, 101,  98, 113,  19, 218, 111,  68, 140, 159,\n",
              "       114, 123, 151,  51, 126, 216, 158,  35, 170, 118, 135, 228, 231,\n",
              "        91,   7, 141, 226, 115, 138,   1,   5, 168, 195, 184, 147, 131,\n",
              "        85, 137, 171, 152, 160,  14, 102, 117, 224, 103, 186,  63,  38,\n",
              "       182,  41, 130,  94,  76,  25,  48, 119, 183,  96,  11, 187, 201,\n",
              "       174,  57,  28, 220,  69, 194, 156,  37, 104,  84, 125, 167, 193,\n",
              "        88, 110,  53,  92, 154, 198,  31,  58, 202,  66,  62,  21,  60,\n",
              "       105, 142, 143, 163, 214,   9,  12,  52,  70,  90,  93,   0, 106,\n",
              "       225,  50, 128, 205, 161, 219,  47,  79, 121,  67, 189, 108,  80])"
            ]
          },
          "metadata": {},
          "execution_count": 17
        }
      ]
    },
    {
      "cell_type": "code",
      "source": [
        "df['Continent']= label_encoder.fit_transform(df['Continent'])\n",
        "df['Continent'].unique()"
      ],
      "metadata": {
        "colab": {
          "base_uri": "https://localhost:8080/"
        },
        "id": "l93q8Au0vWct",
        "outputId": "4d4cc87b-c426-499d-85b6-90c15d51cbf7"
      },
      "execution_count": 18,
      "outputs": [
        {
          "output_type": "execute_result",
          "data": {
            "text/plain": [
              "array([1, 2, 0, 4, 3, 5])"
            ]
          },
          "metadata": {},
          "execution_count": 18
        }
      ]
    },
    {
      "cell_type": "code",
      "source": [
        "df.dtypes"
      ],
      "metadata": {
        "colab": {
          "base_uri": "https://localhost:8080/"
        },
        "id": "pP348FBJy_1O",
        "outputId": "e2b0e15d-19d1-47a9-cee6-bc5641d5a85e"
      },
      "execution_count": 35,
      "outputs": [
        {
          "output_type": "execute_result",
          "data": {
            "text/plain": [
              "Rank                             int64\n",
              "CCA3                             int64\n",
              "Country                          int64\n",
              "Capital                          int64\n",
              "Continent                        int64\n",
              "2022 Population                  int64\n",
              "2020 Population                  int64\n",
              "2015 Population                  int64\n",
              "2010 Population                  int64\n",
              "2000 Population                  int64\n",
              "1990 Population                  int64\n",
              "1980 Population                  int64\n",
              "1970 Population                  int64\n",
              "Area (km²)                       int64\n",
              "Density (per km²)              float64\n",
              "Growth Rate                    float64\n",
              "World Population Percentage    float64\n",
              "dtype: object"
            ]
          },
          "metadata": {},
          "execution_count": 35
        }
      ]
    },
    {
      "cell_type": "markdown",
      "source": [
        "EXPLORATORY DATA ANALYSIS"
      ],
      "metadata": {
        "id": "oAUzOXtTvkI4"
      }
    },
    {
      "cell_type": "code",
      "source": [
        "df.columns"
      ],
      "metadata": {
        "colab": {
          "base_uri": "https://localhost:8080/"
        },
        "id": "TTfpbTUSvhOI",
        "outputId": "3ac0017d-13b4-4544-9611-26a1d96ed972"
      },
      "execution_count": 19,
      "outputs": [
        {
          "output_type": "execute_result",
          "data": {
            "text/plain": [
              "Index(['Rank', 'CCA3', 'Country', 'Capital', 'Continent', '2022 Population',\n",
              "       '2020 Population', '2015 Population', '2010 Population',\n",
              "       '2000 Population', '1990 Population', '1980 Population',\n",
              "       '1970 Population', 'Area (km²)', 'Density (per km²)', 'Growth Rate',\n",
              "       'World Population Percentage'],\n",
              "      dtype='object')"
            ]
          },
          "metadata": {},
          "execution_count": 19
        }
      ]
    },
    {
      "cell_type": "code",
      "source": [
        "import matplotlib.pyplot as plt\n",
        "import seaborn as sns"
      ],
      "metadata": {
        "id": "kMFzgxHUvwGS"
      },
      "execution_count": 21,
      "outputs": []
    },
    {
      "cell_type": "code",
      "source": [
        "sns.countplot(df['Continent'])\n",
        "fig = plt.gcf()\n",
        "fig.set_size_inches(6,6)\n",
        "plt.title('Continent')"
      ],
      "metadata": {
        "colab": {
          "base_uri": "https://localhost:8080/",
          "height": 478
        },
        "id": "ZTqJtZAsvpkT",
        "outputId": "c6dd44b4-bb2d-4175-a6d2-d6fa1b62388b"
      },
      "execution_count": 25,
      "outputs": [
        {
          "output_type": "stream",
          "name": "stderr",
          "text": [
            "/usr/local/lib/python3.7/dist-packages/seaborn/_decorators.py:43: FutureWarning: Pass the following variable as a keyword arg: x. From version 0.12, the only valid positional argument will be `data`, and passing other arguments without an explicit keyword will result in an error or misinterpretation.\n",
            "  FutureWarning\n"
          ]
        },
        {
          "output_type": "execute_result",
          "data": {
            "text/plain": [
              "Text(0.5, 1.0, 'Continent')"
            ]
          },
          "metadata": {},
          "execution_count": 25
        },
        {
          "output_type": "display_data",
          "data": {
            "text/plain": [
              "<Figure size 432x432 with 1 Axes>"
            ],
            "image/png": "[encoded data removed]"
          },
          "metadata": {
            "needs_background": "light"
          }
        }
      ]
    },
    {
      "cell_type": "code",
      "source": [
        "sns.countplot(df['Area (km²)'])\n",
        "fig = plt.gcf()\n",
        "fig.set_size_inches(6,6)\n",
        "plt.title('Area (km²)')"
      ],
      "metadata": {
        "colab": {
          "base_uri": "https://localhost:8080/",
          "height": 478
        },
        "id": "7hNKRm9IvtmR",
        "outputId": "756b25df-c78e-4a03-f46a-54f7f96f1024"
      },
      "execution_count": 26,
      "outputs": [
        {
          "output_type": "stream",
          "name": "stderr",
          "text": [
            "/usr/local/lib/python3.7/dist-packages/seaborn/_decorators.py:43: FutureWarning: Pass the following variable as a keyword arg: x. From version 0.12, the only valid positional argument will be `data`, and passing other arguments without an explicit keyword will result in an error or misinterpretation.\n",
            "  FutureWarning\n"
          ]
        },
        {
          "output_type": "execute_result",
          "data": {
            "text/plain": [
              "Text(0.5, 1.0, 'Area (km²)')"
            ]
          },
          "metadata": {},
          "execution_count": 26
        },
        {
          "output_type": "display_data",
          "data": {
            "text/plain": [
              "<Figure size 432x432 with 1 Axes>"
            ],
            "image/png": "[encoded data removed]"
          },
          "metadata": {
            "needs_background": "light"
          }
        }
      ]
    },
    {
      "cell_type": "code",
      "source": [
        "plt.hist(df['Growth Rate'])\n",
        "fig = plt.gcf()\n",
        "fig.set_size_inches(5,5)\n",
        "plt.title('Growth Rate')"
      ],
      "metadata": {
        "colab": {
          "base_uri": "https://localhost:8080/",
          "height": 354
        },
        "id": "a7FxbYI_w2Jy",
        "outputId": "98c6d7fb-6119-46da-a89f-8a412c532a2e"
      },
      "execution_count": 28,
      "outputs": [
        {
          "output_type": "execute_result",
          "data": {
            "text/plain": [
              "Text(0.5, 1.0, 'Growth Rate')"
            ]
          },
          "metadata": {},
          "execution_count": 28
        },
        {
          "output_type": "display_data",
          "data": {
            "text/plain": [
              "<Figure size 360x360 with 1 Axes>"
            ],
            "image/png": "[encoded data removed]"
          },
          "metadata": {
            "needs_background": "light"
          }
        }
      ]
    },
    {
      "cell_type": "code",
      "source": [
        "plt.hist(df['2015 Population'])\n",
        "fig = plt.gcf()\n",
        "fig.set_size_inches(6,6)\n",
        "plt.title('2015 Population')"
      ],
      "metadata": {
        "colab": {
          "base_uri": "https://localhost:8080/",
          "height": 421
        },
        "id": "F-k-QCNmwGfZ",
        "outputId": "d20e6de1-2be4-49f1-efcd-5116977a6038"
      },
      "execution_count": 29,
      "outputs": [
        {
          "output_type": "execute_result",
          "data": {
            "text/plain": [
              "Text(0.5, 1.0, '2015 Population')"
            ]
          },
          "metadata": {},
          "execution_count": 29
        },
        {
          "output_type": "display_data",
          "data": {
            "text/plain": [
              "<Figure size 432x432 with 1 Axes>"
            ],
            "image/png": "[encoded data removed]"
          },
          "metadata": {
            "needs_background": "light"
          }
        }
      ]
    },
    {
      "cell_type": "code",
      "source": [
        "df.groupby('Continent').Continent.count().plot(kind='pie')\n",
        "plt.title('Continent')\n",
        "plt.show()"
      ],
      "metadata": {
        "colab": {
          "base_uri": "https://localhost:8080/",
          "height": 264
        },
        "id": "IhEE57mMwvrw",
        "outputId": "c7cc3c08-8aa5-40ab-ee7f-ff9128ae14e4"
      },
      "execution_count": 30,
      "outputs": [
        {
          "output_type": "display_data",
          "data": {
            "text/plain": [
              "<Figure size 432x288 with 1 Axes>"
            ],
            "image/png": "[encoded data removed]"
          },
          "metadata": {}
        }
      ]
    },
    {
      "cell_type": "code",
      "source": [
        "plt.scatter(x='Area (km²)', y='Continent')\n",
        "plt.show()"
      ],
      "metadata": {
        "colab": {
          "base_uri": "https://localhost:8080/",
          "height": 265
        },
        "id": "xZhjBjVqw82b",
        "outputId": "4509f8c8-13d7-4caa-9778-3b5db5781bbf"
      },
      "execution_count": 31,
      "outputs": [
        {
          "output_type": "display_data",
          "data": {
            "text/plain": [
              "<Figure size 432x288 with 1 Axes>"
            ],
            "image/png": "[encoded data removed]"
          },
          "metadata": {
            "needs_background": "light"
          }
        }
      ]
    },
    {
      "cell_type": "code",
      "source": [
        "sns.heatmap(df.corr(),annot=True,cmap='YlGnBu')"
      ],
      "metadata": {
        "colab": {
          "base_uri": "https://localhost:8080/",
          "height": 421
        },
        "id": "Tr84C3ACxAdH",
        "outputId": "f33a70c7-1513-4c21-fa2c-8476c48a2bca"
      },
      "execution_count": 36,
      "outputs": [
        {
          "output_type": "execute_result",
          "data": {
            "text/plain": [
              "<matplotlib.axes._subplots.AxesSubplot at 0x7efc8726db10>"
            ]
          },
          "metadata": {},
          "execution_count": 36
        },
        {
          "output_type": "display_data",
          "data": {
            "text/plain": [
              "<Figure size 432x288 with 2 Axes>"
            ],
            "image/png": "[encoded data removed]"
          },
          "metadata": {
            "needs_background": "light"
          }
        }
      ]
    },
    {
      "cell_type": "code",
      "source": [
        "df.hist(xrot = 20,figsize = (15,15),color = \"Blue\")\n",
        "plt.show()"
      ],
      "metadata": {
        "colab": {
          "base_uri": "https://localhost:8080/",
          "height": 883
        },
        "id": "xPyBktUDxD07",
        "outputId": "9baa272e-cfb4-4ed7-a732-de129bbe78c0"
      },
      "execution_count": 37,
      "outputs": [
        {
          "output_type": "display_data",
          "data": {
            "text/plain": [
              "<Figure size 1080x1080 with 20 Axes>"
            ],
            "image/png": "[encoded data removed]"
          },
          "metadata": {
            "needs_background": "light"
          }
        }
      ]
    },
    {
      "cell_type": "code",
      "source": [],
      "metadata": {
        "id": "rquSRNKPza4u"
      },
      "execution_count": null,
      "outputs": []
    }
  ]
}